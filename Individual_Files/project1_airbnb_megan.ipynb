{
 "cells": [
  {
   "cell_type": "markdown",
   "metadata": {},
   "source": [
    "Project 1- Airbnb Analysis"
   ]
  },
  {
   "cell_type": "code",
   "execution_count": 9,
   "metadata": {},
   "outputs": [],
   "source": [
    "#Import dependencies\n",
    "import pandas as pd\n",
    "import matplotlib.pyplot as plt\n",
    "import json\n",
    "import pprint\n",
    "import gmaps\n",
    "from matplotlib import cm\n",
    "import numpy as np"
   ]
  },
  {
   "cell_type": "code",
   "execution_count": 4,
   "metadata": {},
   "outputs": [
    {
     "data": {
      "text/html": [
       "<div>\n",
       "<style scoped>\n",
       "    .dataframe tbody tr th:only-of-type {\n",
       "        vertical-align: middle;\n",
       "    }\n",
       "\n",
       "    .dataframe tbody tr th {\n",
       "        vertical-align: top;\n",
       "    }\n",
       "\n",
       "    .dataframe thead th {\n",
       "        text-align: right;\n",
       "    }\n",
       "</style>\n",
       "<table border=\"1\" class=\"dataframe\">\n",
       "  <thead>\n",
       "    <tr style=\"text-align: right;\">\n",
       "      <th></th>\n",
       "      <th>id</th>\n",
       "      <th>listing_url</th>\n",
       "      <th>scrape_id</th>\n",
       "      <th>last_scraped</th>\n",
       "      <th>name</th>\n",
       "      <th>summary</th>\n",
       "      <th>space</th>\n",
       "      <th>description</th>\n",
       "      <th>experiences_offered</th>\n",
       "      <th>neighborhood_overview</th>\n",
       "      <th>...</th>\n",
       "      <th>requires_license</th>\n",
       "      <th>license</th>\n",
       "      <th>jurisdiction_names</th>\n",
       "      <th>instant_bookable</th>\n",
       "      <th>is_business_travel_ready</th>\n",
       "      <th>cancellation_policy</th>\n",
       "      <th>require_guest_profile_picture</th>\n",
       "      <th>require_guest_phone_verification</th>\n",
       "      <th>calculated_host_listings_count</th>\n",
       "      <th>reviews_per_month</th>\n",
       "    </tr>\n",
       "  </thead>\n",
       "  <tbody>\n",
       "    <tr>\n",
       "      <th>0</th>\n",
       "      <td>360</td>\n",
       "      <td>https://www.airbnb.com/rooms/360</td>\n",
       "      <td>20180827015748</td>\n",
       "      <td>2018-08-27</td>\n",
       "      <td>LoHi Secret garden at the Chickadee Cottage</td>\n",
       "      <td>Come enjoy our oasis is the city and stay at o...</td>\n",
       "      <td>Chickadee Cottage is the largest of our guest ...</td>\n",
       "      <td>Come enjoy our oasis is the city and stay at o...</td>\n",
       "      <td>none</td>\n",
       "      <td>those who are interested in our local brews - ...</td>\n",
       "      <td>...</td>\n",
       "      <td>t</td>\n",
       "      <td>2017-BFN-0002177</td>\n",
       "      <td>{\"Colorado State\",\" the City and County of Den...</td>\n",
       "      <td>t</td>\n",
       "      <td>f</td>\n",
       "      <td>moderate</td>\n",
       "      <td>t</td>\n",
       "      <td>t</td>\n",
       "      <td>3</td>\n",
       "      <td>3.00</td>\n",
       "    </tr>\n",
       "    <tr>\n",
       "      <th>1</th>\n",
       "      <td>590</td>\n",
       "      <td>https://www.airbnb.com/rooms/590</td>\n",
       "      <td>20180827015748</td>\n",
       "      <td>2018-08-27</td>\n",
       "      <td>Comfortable  - and a great value!</td>\n",
       "      <td>Large guest room in my home, where I also live...</td>\n",
       "      <td>I have been enjoying welcoming many wonderful ...</td>\n",
       "      <td>Large guest room in my home, where I also live...</td>\n",
       "      <td>none</td>\n",
       "      <td>I love the diversity of my neighborhood and it...</td>\n",
       "      <td>...</td>\n",
       "      <td>t</td>\n",
       "      <td>2018-BFN-O0O5791</td>\n",
       "      <td>{\"Colorado State\",\" the City and County of Den...</td>\n",
       "      <td>f</td>\n",
       "      <td>f</td>\n",
       "      <td>flexible</td>\n",
       "      <td>f</td>\n",
       "      <td>f</td>\n",
       "      <td>2</td>\n",
       "      <td>4.71</td>\n",
       "    </tr>\n",
       "    <tr>\n",
       "      <th>2</th>\n",
       "      <td>592</td>\n",
       "      <td>https://www.airbnb.com/rooms/592</td>\n",
       "      <td>20180827015748</td>\n",
       "      <td>2018-08-27</td>\n",
       "      <td>private</td>\n",
       "      <td>Denver short-term-rental license number 2016-B...</td>\n",
       "      <td>This is a basement room.  You can sometimes he...</td>\n",
       "      <td>Denver short-term-rental license number 2016-B...</td>\n",
       "      <td>none</td>\n",
       "      <td>NaN</td>\n",
       "      <td>...</td>\n",
       "      <td>t</td>\n",
       "      <td>2016-BFN-0008735</td>\n",
       "      <td>{\"Colorado State\",\" the City and County of Den...</td>\n",
       "      <td>f</td>\n",
       "      <td>f</td>\n",
       "      <td>flexible</td>\n",
       "      <td>f</td>\n",
       "      <td>f</td>\n",
       "      <td>2</td>\n",
       "      <td>1.23</td>\n",
       "    </tr>\n",
       "    <tr>\n",
       "      <th>3</th>\n",
       "      <td>686</td>\n",
       "      <td>https://www.airbnb.com/rooms/686</td>\n",
       "      <td>20180827015748</td>\n",
       "      <td>2018-08-27</td>\n",
       "      <td>Alexandra's Uptown Queen Bed Room</td>\n",
       "      <td>Thank you for visiting my Queen Bed Room site!...</td>\n",
       "      <td>Thank you for checking out my Bed and Breakfas...</td>\n",
       "      <td>Thank you for visiting my Queen Bed Room site!...</td>\n",
       "      <td>none</td>\n",
       "      <td>I love my Uptown neighborhood, which is within...</td>\n",
       "      <td>...</td>\n",
       "      <td>t</td>\n",
       "      <td>2016-BFN-0008368</td>\n",
       "      <td>{\"Colorado State\",\" the City and County of Den...</td>\n",
       "      <td>t</td>\n",
       "      <td>f</td>\n",
       "      <td>moderate</td>\n",
       "      <td>f</td>\n",
       "      <td>f</td>\n",
       "      <td>3</td>\n",
       "      <td>1.91</td>\n",
       "    </tr>\n",
       "    <tr>\n",
       "      <th>4</th>\n",
       "      <td>1940</td>\n",
       "      <td>https://www.airbnb.com/rooms/1940</td>\n",
       "      <td>20180827015748</td>\n",
       "      <td>2018-08-27</td>\n",
       "      <td>Baker Studio Close to EVERYTHING</td>\n",
       "      <td>Significant discounts for week or month+ reser...</td>\n",
       "      <td>The studio is highly functional and cozy.  It ...</td>\n",
       "      <td>Significant discounts for week or month+ reser...</td>\n",
       "      <td>none</td>\n",
       "      <td>Baker is a historic neighborhood with quaint V...</td>\n",
       "      <td>...</td>\n",
       "      <td>t</td>\n",
       "      <td>344114-070056   2018-BFN-0002596</td>\n",
       "      <td>{\"Colorado State\",\" the City and County of Den...</td>\n",
       "      <td>f</td>\n",
       "      <td>f</td>\n",
       "      <td>strict_14_with_grace_period</td>\n",
       "      <td>f</td>\n",
       "      <td>f</td>\n",
       "      <td>1</td>\n",
       "      <td>1.08</td>\n",
       "    </tr>\n",
       "  </tbody>\n",
       "</table>\n",
       "<p>5 rows × 96 columns</p>\n",
       "</div>"
      ],
      "text/plain": [
       "     id                        listing_url       scrape_id last_scraped  \\\n",
       "0   360   https://www.airbnb.com/rooms/360  20180827015748   2018-08-27   \n",
       "1   590   https://www.airbnb.com/rooms/590  20180827015748   2018-08-27   \n",
       "2   592   https://www.airbnb.com/rooms/592  20180827015748   2018-08-27   \n",
       "3   686   https://www.airbnb.com/rooms/686  20180827015748   2018-08-27   \n",
       "4  1940  https://www.airbnb.com/rooms/1940  20180827015748   2018-08-27   \n",
       "\n",
       "                                          name  \\\n",
       "0  LoHi Secret garden at the Chickadee Cottage   \n",
       "1            Comfortable  - and a great value!   \n",
       "2                                      private   \n",
       "3            Alexandra's Uptown Queen Bed Room   \n",
       "4             Baker Studio Close to EVERYTHING   \n",
       "\n",
       "                                             summary  \\\n",
       "0  Come enjoy our oasis is the city and stay at o...   \n",
       "1  Large guest room in my home, where I also live...   \n",
       "2  Denver short-term-rental license number 2016-B...   \n",
       "3  Thank you for visiting my Queen Bed Room site!...   \n",
       "4  Significant discounts for week or month+ reser...   \n",
       "\n",
       "                                               space  \\\n",
       "0  Chickadee Cottage is the largest of our guest ...   \n",
       "1  I have been enjoying welcoming many wonderful ...   \n",
       "2  This is a basement room.  You can sometimes he...   \n",
       "3  Thank you for checking out my Bed and Breakfas...   \n",
       "4  The studio is highly functional and cozy.  It ...   \n",
       "\n",
       "                                         description experiences_offered  \\\n",
       "0  Come enjoy our oasis is the city and stay at o...                none   \n",
       "1  Large guest room in my home, where I also live...                none   \n",
       "2  Denver short-term-rental license number 2016-B...                none   \n",
       "3  Thank you for visiting my Queen Bed Room site!...                none   \n",
       "4  Significant discounts for week or month+ reser...                none   \n",
       "\n",
       "                               neighborhood_overview        ...          \\\n",
       "0  those who are interested in our local brews - ...        ...           \n",
       "1  I love the diversity of my neighborhood and it...        ...           \n",
       "2                                                NaN        ...           \n",
       "3  I love my Uptown neighborhood, which is within...        ...           \n",
       "4  Baker is a historic neighborhood with quaint V...        ...           \n",
       "\n",
       "  requires_license                           license  \\\n",
       "0                t                  2017-BFN-0002177   \n",
       "1                t                  2018-BFN-O0O5791   \n",
       "2                t                  2016-BFN-0008735   \n",
       "3                t                  2016-BFN-0008368   \n",
       "4                t  344114-070056   2018-BFN-0002596   \n",
       "\n",
       "                                  jurisdiction_names instant_bookable  \\\n",
       "0  {\"Colorado State\",\" the City and County of Den...                t   \n",
       "1  {\"Colorado State\",\" the City and County of Den...                f   \n",
       "2  {\"Colorado State\",\" the City and County of Den...                f   \n",
       "3  {\"Colorado State\",\" the City and County of Den...                t   \n",
       "4  {\"Colorado State\",\" the City and County of Den...                f   \n",
       "\n",
       "  is_business_travel_ready          cancellation_policy  \\\n",
       "0                        f                     moderate   \n",
       "1                        f                     flexible   \n",
       "2                        f                     flexible   \n",
       "3                        f                     moderate   \n",
       "4                        f  strict_14_with_grace_period   \n",
       "\n",
       "   require_guest_profile_picture require_guest_phone_verification  \\\n",
       "0                              t                                t   \n",
       "1                              f                                f   \n",
       "2                              f                                f   \n",
       "3                              f                                f   \n",
       "4                              f                                f   \n",
       "\n",
       "   calculated_host_listings_count  reviews_per_month  \n",
       "0                               3               3.00  \n",
       "1                               2               4.71  \n",
       "2                               2               1.23  \n",
       "3                               3               1.91  \n",
       "4                               1               1.08  \n",
       "\n",
       "[5 rows x 96 columns]"
      ]
     },
     "execution_count": 4,
     "metadata": {},
     "output_type": "execute_result"
    }
   ],
   "source": [
    "#Import csv file\n",
    "\n",
    "df = pd.read_csv(\"Resources/listings.csv\")\n",
    "master_df = pd.DataFrame(df)\n",
    "master_df = master_df.loc[df['number_of_reviews']>1]\n",
    "master_df.head(5)"
   ]
  },
  {
   "cell_type": "code",
   "execution_count": 5,
   "metadata": {
    "scrolled": true
   },
   "outputs": [
    {
     "data": {
      "text/html": [
       "<div>\n",
       "<style scoped>\n",
       "    .dataframe tbody tr th:only-of-type {\n",
       "        vertical-align: middle;\n",
       "    }\n",
       "\n",
       "    .dataframe tbody tr th {\n",
       "        vertical-align: top;\n",
       "    }\n",
       "\n",
       "    .dataframe thead th {\n",
       "        text-align: right;\n",
       "    }\n",
       "</style>\n",
       "<table border=\"1\" class=\"dataframe\">\n",
       "  <thead>\n",
       "    <tr style=\"text-align: right;\">\n",
       "      <th></th>\n",
       "      <th>property_type</th>\n",
       "      <th>id</th>\n",
       "      <th>room_type</th>\n",
       "      <th>accommodates</th>\n",
       "      <th>bathrooms</th>\n",
       "      <th>bedrooms</th>\n",
       "      <th>beds</th>\n",
       "      <th>bed_type</th>\n",
       "      <th>review_scores_rating</th>\n",
       "    </tr>\n",
       "  </thead>\n",
       "  <tbody>\n",
       "    <tr>\n",
       "      <th>0</th>\n",
       "      <td>Guesthouse</td>\n",
       "      <td>360</td>\n",
       "      <td>Entire home/apt</td>\n",
       "      <td>5</td>\n",
       "      <td>1.0</td>\n",
       "      <td>2</td>\n",
       "      <td>2.0</td>\n",
       "      <td>Futon</td>\n",
       "      <td>100.0</td>\n",
       "    </tr>\n",
       "    <tr>\n",
       "      <th>1</th>\n",
       "      <td>House</td>\n",
       "      <td>590</td>\n",
       "      <td>Private room</td>\n",
       "      <td>3</td>\n",
       "      <td>1.0</td>\n",
       "      <td>1</td>\n",
       "      <td>1.0</td>\n",
       "      <td>Real Bed</td>\n",
       "      <td>96.0</td>\n",
       "    </tr>\n",
       "    <tr>\n",
       "      <th>2</th>\n",
       "      <td>House</td>\n",
       "      <td>592</td>\n",
       "      <td>Private room</td>\n",
       "      <td>2</td>\n",
       "      <td>1.0</td>\n",
       "      <td>1</td>\n",
       "      <td>1.0</td>\n",
       "      <td>Real Bed</td>\n",
       "      <td>97.0</td>\n",
       "    </tr>\n",
       "    <tr>\n",
       "      <th>3</th>\n",
       "      <td>House</td>\n",
       "      <td>686</td>\n",
       "      <td>Private room</td>\n",
       "      <td>2</td>\n",
       "      <td>2.0</td>\n",
       "      <td>1</td>\n",
       "      <td>1.0</td>\n",
       "      <td>Real Bed</td>\n",
       "      <td>95.0</td>\n",
       "    </tr>\n",
       "    <tr>\n",
       "      <th>4</th>\n",
       "      <td>Guesthouse</td>\n",
       "      <td>1940</td>\n",
       "      <td>Entire home/apt</td>\n",
       "      <td>2</td>\n",
       "      <td>1.0</td>\n",
       "      <td>0</td>\n",
       "      <td>1.0</td>\n",
       "      <td>Real Bed</td>\n",
       "      <td>99.0</td>\n",
       "    </tr>\n",
       "  </tbody>\n",
       "</table>\n",
       "</div>"
      ],
      "text/plain": [
       "  property_type    id        room_type  accommodates  bathrooms  bedrooms  \\\n",
       "0    Guesthouse   360  Entire home/apt             5        1.0         2   \n",
       "1         House   590     Private room             3        1.0         1   \n",
       "2         House   592     Private room             2        1.0         1   \n",
       "3         House   686     Private room             2        2.0         1   \n",
       "4    Guesthouse  1940  Entire home/apt             2        1.0         0   \n",
       "\n",
       "   beds  bed_type  review_scores_rating  \n",
       "0   2.0     Futon                 100.0  \n",
       "1   1.0  Real Bed                  96.0  \n",
       "2   1.0  Real Bed                  97.0  \n",
       "3   1.0  Real Bed                  95.0  \n",
       "4   1.0  Real Bed                  99.0  "
      ]
     },
     "execution_count": 5,
     "metadata": {},
     "output_type": "execute_result"
    }
   ],
   "source": [
    "#Create a new DataFrame to hold useful columns\n",
    "new_df = df[[\"property_type\", \"id\", \"room_type\", \"accommodates\", \"bathrooms\", \"bedrooms\", \"beds\", \"bed_type\", \"review_scores_rating\"]]\n",
    "new_df.head()"
   ]
  },
  {
   "cell_type": "code",
   "execution_count": 6,
   "metadata": {},
   "outputs": [
    {
     "data": {
      "text/html": [
       "<div>\n",
       "<style scoped>\n",
       "    .dataframe tbody tr th:only-of-type {\n",
       "        vertical-align: middle;\n",
       "    }\n",
       "\n",
       "    .dataframe tbody tr th {\n",
       "        vertical-align: top;\n",
       "    }\n",
       "\n",
       "    .dataframe thead th {\n",
       "        text-align: right;\n",
       "    }\n",
       "</style>\n",
       "<table border=\"1\" class=\"dataframe\">\n",
       "  <thead>\n",
       "    <tr style=\"text-align: right;\">\n",
       "      <th></th>\n",
       "      <th>Property Count</th>\n",
       "      <th>Average Rating</th>\n",
       "    </tr>\n",
       "    <tr>\n",
       "      <th>property_type</th>\n",
       "      <th></th>\n",
       "      <th></th>\n",
       "    </tr>\n",
       "  </thead>\n",
       "  <tbody>\n",
       "    <tr>\n",
       "      <th>Villa</th>\n",
       "      <td>7</td>\n",
       "      <td>99.750000</td>\n",
       "    </tr>\n",
       "    <tr>\n",
       "      <th>Tiny house</th>\n",
       "      <td>5</td>\n",
       "      <td>99.600000</td>\n",
       "    </tr>\n",
       "    <tr>\n",
       "      <th>Guesthouse</th>\n",
       "      <td>121</td>\n",
       "      <td>98.286957</td>\n",
       "    </tr>\n",
       "    <tr>\n",
       "      <th>Tent</th>\n",
       "      <td>2</td>\n",
       "      <td>98.000000</td>\n",
       "    </tr>\n",
       "    <tr>\n",
       "      <th>Townhouse</th>\n",
       "      <td>608</td>\n",
       "      <td>97.812044</td>\n",
       "    </tr>\n",
       "  </tbody>\n",
       "</table>\n",
       "</div>"
      ],
      "text/plain": [
       "               Property Count  Average Rating\n",
       "property_type                                \n",
       "Villa                       7       99.750000\n",
       "Tiny house                  5       99.600000\n",
       "Guesthouse                121       98.286957\n",
       "Tent                        2       98.000000\n",
       "Townhouse                 608       97.812044"
      ]
     },
     "execution_count": 6,
     "metadata": {},
     "output_type": "execute_result"
    }
   ],
   "source": [
    "#Groupby the property type and average rating/number of properties\n",
    "prop_group = new_df.groupby(['property_type'])\n",
    "prop_count = prop_group[\"id\"].count()\n",
    "rating_mean = prop_group[\"review_scores_rating\"].mean()\n",
    "prof_df = pd.DataFrame({\"Property Count\": prop_count, \"Average Rating\": rating_mean})\n",
    "prof_df = prof_df.dropna(how=\"any\")\n",
    "prof_df = prof_df.sort_values(\"Average Rating\", ascending=False)\n",
    "prof_df.head()"
   ]
  },
  {
   "cell_type": "code",
   "execution_count": 28,
   "metadata": {},
   "outputs": [],
   "source": [
    "count_df = prof_df.sort_values(\"Property Count\", ascending=False)"
   ]
  },
  {
   "cell_type": "code",
   "execution_count": 24,
   "metadata": {
    "scrolled": true
   },
   "outputs": [
    {
     "data": {
      "image/png": "[encoded data removed]",
      "text/plain": [
       "<Figure size 432x288 with 1 Axes>"
      ]
     },
     "metadata": {},
     "output_type": "display_data"
    }
   ],
   "source": [
    "plot_df = prof_df.plot.bar(y=\"Average Rating\", color=colors)\n",
    "plt.ylim(88, 100)\n",
    "plt.legend(\"\")\n",
    "plt.xlabel(\"Property Type\")\n",
    "plt.ylabel(\"Average Rating\")\n",
    "cmap = plt.cm.tab20\n",
    "colors = cmap(np.linspace(0.,1., len(\"Average Rating\")))"
   ]
  },
  {
   "cell_type": "code",
   "execution_count": 29,
   "metadata": {},
   "outputs": [
    {
     "data": {
      "image/png": "[encoded data removed]",
      "text/plain": [
       "<Figure size 432x288 with 1 Axes>"
      ]
     },
     "metadata": {},
     "output_type": "display_data"
    }
   ],
   "source": [
    "count_df = count_df.plot.bar(y=\"Property Count\", color=colors)\n",
    "plt.ylim(0, 2100)\n",
    "plt.legend(\"\")\n",
    "plt.xlabel(\"Property Type\")\n",
    "plt.ylabel(\"Number of Properties\")\n",
    "plt.title(\"Number of Properties of Each Property Type\")\n",
    "cmap = plt.cm.tab20\n",
    "colors = cmap(np.linspace(0.,1., len(\"Property Count\")))"
   ]
  },
  {
   "cell_type": "code",
   "execution_count": 13,
   "metadata": {},
   "outputs": [
    {
     "data": {
      "text/html": [
       "<div>\n",
       "<style scoped>\n",
       "    .dataframe tbody tr th:only-of-type {\n",
       "        vertical-align: middle;\n",
       "    }\n",
       "\n",
       "    .dataframe tbody tr th {\n",
       "        vertical-align: top;\n",
       "    }\n",
       "\n",
       "    .dataframe thead th {\n",
       "        text-align: right;\n",
       "    }\n",
       "</style>\n",
       "<table border=\"1\" class=\"dataframe\">\n",
       "  <thead>\n",
       "    <tr style=\"text-align: right;\">\n",
       "      <th></th>\n",
       "      <th>Property Count</th>\n",
       "      <th>Average Rating</th>\n",
       "    </tr>\n",
       "    <tr>\n",
       "      <th>room_type</th>\n",
       "      <th></th>\n",
       "      <th></th>\n",
       "    </tr>\n",
       "  </thead>\n",
       "  <tbody>\n",
       "    <tr>\n",
       "      <th>Private room</th>\n",
       "      <td>1239</td>\n",
       "      <td>96.879231</td>\n",
       "    </tr>\n",
       "    <tr>\n",
       "      <th>Entire home/apt</th>\n",
       "      <td>3664</td>\n",
       "      <td>96.688679</td>\n",
       "    </tr>\n",
       "    <tr>\n",
       "      <th>Shared room</th>\n",
       "      <td>81</td>\n",
       "      <td>93.492308</td>\n",
       "    </tr>\n",
       "  </tbody>\n",
       "</table>\n",
       "</div>"
      ],
      "text/plain": [
       "                 Property Count  Average Rating\n",
       "room_type                                      \n",
       "Private room               1239       96.879231\n",
       "Entire home/apt            3664       96.688679\n",
       "Shared room                  81       93.492308"
      ]
     },
     "execution_count": 13,
     "metadata": {},
     "output_type": "execute_result"
    }
   ],
   "source": [
    "#Groupby room type and average rating\n",
    "room_group = new_df.groupby(['room_type'])\n",
    "prop_count = room_group[\"id\"].count()\n",
    "rating_mean = room_group[\"review_scores_rating\"].mean()\n",
    "room_df = pd.DataFrame({\"Property Count\": prop_count, \"Average Rating\": rating_mean})\n",
    "room_df = room_df.dropna(how=\"any\")\n",
    "room_df = room_df.sort_values(\"Average Rating\", ascending=False)\n",
    "room_df.head()"
   ]
  },
  {
   "cell_type": "code",
   "execution_count": 17,
   "metadata": {},
   "outputs": [
    {
     "data": {
      "text/plain": [
       "Text(0.5,1,'Average Rating of Each Room Type')"
      ]
     },
     "execution_count": 17,
     "metadata": {},
     "output_type": "execute_result"
    },
    {
     "data": {
      "image/png": "[encoded data removed]",
      "text/plain": [
       "<Figure size 432x288 with 1 Axes>"
      ]
     },
     "metadata": {},
     "output_type": "display_data"
    }
   ],
   "source": [
    "room = room_df.plot.bar(y=\"Average Rating\")\n",
    "plt.ylim(90, 100)\n",
    "plt.legend(\"\")\n",
    "plt.xlabel(\"Room Type\")\n",
    "plt.ylabel(\"Average Rating\")\n",
    "plt.title(\"Average Rating of Each Room Type\")\n",
    "cmap = plt.cm.tab20\n",
    "colors = cmap(np.linspace(0.,1., len(\"Average Rating\")))"
   ]
  },
  {
   "cell_type": "code",
   "execution_count": 19,
   "metadata": {},
   "outputs": [
    {
     "data": {
      "text/plain": [
       "Text(0.5,1,'Average Rating of Each Room Type')"
      ]
     },
     "execution_count": 19,
     "metadata": {},
     "output_type": "execute_result"
    },
    {
     "data": {
      "image/png": "[encoded data removed]",
      "text/plain": [
       "<Figure size 432x288 with 1 Axes>"
      ]
     },
     "metadata": {},
     "output_type": "display_data"
    }
   ],
   "source": [
    "room2 = room_df.plot.bar(y=\"Property Count\")\n",
    "plt.ylim(0, 4000)\n",
    "plt.legend(\"\")\n",
    "plt.xlabel(\"Room Type\")\n",
    "plt.ylabel(\"Property Count\")\n",
    "plt.title(\"Average Rating of Each Room Type\")"
   ]
  },
  {
   "cell_type": "code",
   "execution_count": 26,
   "metadata": {},
   "outputs": [
    {
     "data": {
      "text/html": [
       "<div>\n",
       "<style scoped>\n",
       "    .dataframe tbody tr th:only-of-type {\n",
       "        vertical-align: middle;\n",
       "    }\n",
       "\n",
       "    .dataframe tbody tr th {\n",
       "        vertical-align: top;\n",
       "    }\n",
       "\n",
       "    .dataframe thead th {\n",
       "        text-align: right;\n",
       "    }\n",
       "</style>\n",
       "<table border=\"1\" class=\"dataframe\">\n",
       "  <thead>\n",
       "    <tr style=\"text-align: right;\">\n",
       "      <th></th>\n",
       "      <th>Property Count</th>\n",
       "      <th>Average Rating</th>\n",
       "    </tr>\n",
       "    <tr>\n",
       "      <th>bed_type</th>\n",
       "      <th></th>\n",
       "      <th></th>\n",
       "    </tr>\n",
       "  </thead>\n",
       "  <tbody>\n",
       "    <tr>\n",
       "      <th>Futon</th>\n",
       "      <td>17</td>\n",
       "      <td>97.941176</td>\n",
       "    </tr>\n",
       "    <tr>\n",
       "      <th>Pull-out Sofa</th>\n",
       "      <td>13</td>\n",
       "      <td>96.818182</td>\n",
       "    </tr>\n",
       "    <tr>\n",
       "      <th>Real Bed</th>\n",
       "      <td>4939</td>\n",
       "      <td>96.713853</td>\n",
       "    </tr>\n",
       "    <tr>\n",
       "      <th>Airbed</th>\n",
       "      <td>10</td>\n",
       "      <td>89.500000</td>\n",
       "    </tr>\n",
       "    <tr>\n",
       "      <th>Couch</th>\n",
       "      <td>5</td>\n",
       "      <td>85.000000</td>\n",
       "    </tr>\n",
       "  </tbody>\n",
       "</table>\n",
       "</div>"
      ],
      "text/plain": [
       "               Property Count  Average Rating\n",
       "bed_type                                     \n",
       "Futon                      17       97.941176\n",
       "Pull-out Sofa              13       96.818182\n",
       "Real Bed                 4939       96.713853\n",
       "Airbed                     10       89.500000\n",
       "Couch                       5       85.000000"
      ]
     },
     "execution_count": 26,
     "metadata": {},
     "output_type": "execute_result"
    }
   ],
   "source": [
    "#Groupby bed type and average rating\n",
    "bed_group = new_df.groupby(['bed_type'])\n",
    "prop_count = bed_group[\"id\"].count()\n",
    "rating_mean = bed_group[\"review_scores_rating\"].mean()\n",
    "bed_df = pd.DataFrame({\"Property Count\": prop_count, \"Average Rating\": rating_mean})\n",
    "bed_df = bed_df.sort_values(\"Average Rating\", ascending=False)\n",
    "bed_df"
   ]
  },
  {
   "cell_type": "code",
   "execution_count": 29,
   "metadata": {},
   "outputs": [
    {
     "data": {
      "text/plain": [
       "Text(0.5,1,'Average Rating by Bed Type')"
      ]
     },
     "execution_count": 29,
     "metadata": {},
     "output_type": "execute_result"
    },
    {
     "data": {
      "image/png": "[encoded data removed]",
      "text/plain": [
       "<Figure size 432x288 with 1 Axes>"
      ]
     },
     "metadata": {},
     "output_type": "display_data"
    }
   ],
   "source": [
    "bed_type = bed_df.plot.bar(y=\"Average Rating\")\n",
    "plt.ylim(82, 100)\n",
    "plt.legend(\"\")\n",
    "plt.xlabel(\"Bed Type\")\n",
    "plt.ylabel(\"Average Rating\")\n",
    "plt.title(\"Average Rating by Bed Type\")"
   ]
  },
  {
   "cell_type": "code",
   "execution_count": 35,
   "metadata": {},
   "outputs": [
    {
     "data": {
      "text/html": [
       "<div>\n",
       "<style scoped>\n",
       "    .dataframe tbody tr th:only-of-type {\n",
       "        vertical-align: middle;\n",
       "    }\n",
       "\n",
       "    .dataframe tbody tr th {\n",
       "        vertical-align: top;\n",
       "    }\n",
       "\n",
       "    .dataframe thead th {\n",
       "        text-align: right;\n",
       "    }\n",
       "</style>\n",
       "<table border=\"1\" class=\"dataframe\">\n",
       "  <thead>\n",
       "    <tr style=\"text-align: right;\">\n",
       "      <th></th>\n",
       "      <th>Property Count</th>\n",
       "      <th>Average Rating</th>\n",
       "    </tr>\n",
       "    <tr>\n",
       "      <th>accommodates</th>\n",
       "      <th></th>\n",
       "      <th></th>\n",
       "    </tr>\n",
       "  </thead>\n",
       "  <tbody>\n",
       "    <tr>\n",
       "      <th>13</th>\n",
       "      <td>6</td>\n",
       "      <td>99.833333</td>\n",
       "    </tr>\n",
       "    <tr>\n",
       "      <th>15</th>\n",
       "      <td>7</td>\n",
       "      <td>98.333333</td>\n",
       "    </tr>\n",
       "    <tr>\n",
       "      <th>11</th>\n",
       "      <td>23</td>\n",
       "      <td>98.000000</td>\n",
       "    </tr>\n",
       "    <tr>\n",
       "      <th>7</th>\n",
       "      <td>114</td>\n",
       "      <td>97.912621</td>\n",
       "    </tr>\n",
       "    <tr>\n",
       "      <th>16</th>\n",
       "      <td>49</td>\n",
       "      <td>97.500000</td>\n",
       "    </tr>\n",
       "  </tbody>\n",
       "</table>\n",
       "</div>"
      ],
      "text/plain": [
       "              Property Count  Average Rating\n",
       "accommodates                                \n",
       "13                         6       99.833333\n",
       "15                         7       98.333333\n",
       "11                        23       98.000000\n",
       "7                        114       97.912621\n",
       "16                        49       97.500000"
      ]
     },
     "execution_count": 35,
     "metadata": {},
     "output_type": "execute_result"
    }
   ],
   "source": [
    "#Group by the number of people the listing accommodates\n",
    "num_group = new_df.groupby(['accommodates'])\n",
    "prop_count = num_group[\"id\"].count()\n",
    "rating_mean = num_group[\"review_scores_rating\"].mean()\n",
    "num_df = pd.DataFrame({\"Property Count\": prop_count, \"Average Rating\": rating_mean})\n",
    "num_df = num_df.sort_values(\"Average Rating\", ascending=False)\n",
    "num_df.head()"
   ]
  },
  {
   "cell_type": "code",
   "execution_count": 39,
   "metadata": {},
   "outputs": [
    {
     "data": {
      "text/plain": [
       "Text(0.5,1,'Average Rating by Accommodation Number')"
      ]
     },
     "execution_count": 39,
     "metadata": {},
     "output_type": "execute_result"
    },
    {
     "data": {
      "image/png": "[encoded data removed]",
      "text/plain": [
       "<Figure size 432x288 with 1 Axes>"
      ]
     },
     "metadata": {},
     "output_type": "display_data"
    }
   ],
   "source": [
    "num_type = num_df.plot.bar(y=\"Average Rating\")\n",
    "plt.ylim(94, 100)\n",
    "plt.legend(\"\")\n",
    "plt.xlabel(\"Accommodation Number\")\n",
    "plt.ylabel(\"Average Rating\")\n",
    "plt.title(\"Average Rating by Accommodation Number\")"
   ]
  },
  {
   "cell_type": "code",
   "execution_count": null,
   "metadata": {
    "scrolled": true
   },
   "outputs": [],
   "source": []
  },
  {
   "cell_type": "code",
   "execution_count": null,
   "metadata": {},
   "outputs": [],
   "source": []
  }
 ],
 "metadata": {
  "kernelspec": {
   "display_name": "Python [default]",
   "language": "python",
   "name": "python3"
  },
  "language_info": {
   "codemirror_mode": {
    "name": "ipython",
    "version": 3
   },
   "file_extension": ".py",
   "mimetype": "text/x-python",
   "name": "python",
   "nbconvert_exporter": "python",
   "pygments_lexer": "ipython3",
   "version": "3.6.5"
  }
 },
 "nbformat": 4,
 "nbformat_minor": 2
}
