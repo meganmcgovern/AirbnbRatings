{
 "cells": [
  {
   "cell_type": "markdown",
   "metadata": {},
   "source": [
    "Project 1- Airbnb Analysis"
   ]
  },
  {
   "cell_type": "code",
   "execution_count": 195,
   "metadata": {},
   "outputs": [],
   "source": [
    "#Import dependencies\n",
    "import pandas as pd\n",
    "import matplotlib.pyplot as plt\n",
    "import json\n",
    "from pprint import pprint\n",
    "from scipy.stats import linregress\n",
    "import numpy as np"
   ]
  },
  {
   "cell_type": "code",
   "execution_count": 196,
   "metadata": {},
   "outputs": [],
   "source": [
    "#Import csv file\n",
    "\n",
    "# df = pd.read_csv(\"Resources/listings.csv\")\n",
    "# master_df = pd.DataFrame(df)\n",
    "# master_df = master_df.loc[df['number_of_reviews']>1,:]\n",
    "# master_df = master_df[master_df[\"review_scores_rating\"].notnull()]"
   ]
  },
  {
   "cell_type": "code",
   "execution_count": 221,
   "metadata": {},
   "outputs": [],
   "source": [
    "# master_df.count()"
   ]
  },
  {
   "cell_type": "code",
   "execution_count": 265,
   "metadata": {},
   "outputs": [
    {
     "data": {
      "text/html": [
       "<div>\n",
       "<style scoped>\n",
       "    .dataframe tbody tr th:only-of-type {\n",
       "        vertical-align: middle;\n",
       "    }\n",
       "\n",
       "    .dataframe tbody tr th {\n",
       "        vertical-align: top;\n",
       "    }\n",
       "\n",
       "    .dataframe thead th {\n",
       "        text-align: right;\n",
       "    }\n",
       "</style>\n",
       "<table border=\"1\" class=\"dataframe\">\n",
       "  <thead>\n",
       "    <tr style=\"text-align: right;\">\n",
       "      <th></th>\n",
       "      <th>id</th>\n",
       "      <th>amenities</th>\n",
       "      <th>review_scores_rating</th>\n",
       "    </tr>\n",
       "  </thead>\n",
       "  <tbody>\n",
       "    <tr>\n",
       "      <th>0</th>\n",
       "      <td>360</td>\n",
       "      <td>{TV,Wifi,\"Air conditioning\",Kitchen,\"Free stre...</td>\n",
       "      <td>100.0</td>\n",
       "    </tr>\n",
       "    <tr>\n",
       "      <th>1</th>\n",
       "      <td>590</td>\n",
       "      <td>{Internet,Wifi,\"Air conditioning\",Kitchen,\"Fre...</td>\n",
       "      <td>96.0</td>\n",
       "    </tr>\n",
       "    <tr>\n",
       "      <th>2</th>\n",
       "      <td>592</td>\n",
       "      <td>{Internet,Wifi,\"Air conditioning\",Kitchen,\"Fre...</td>\n",
       "      <td>97.0</td>\n",
       "    </tr>\n",
       "    <tr>\n",
       "      <th>3</th>\n",
       "      <td>686</td>\n",
       "      <td>{TV,\"Cable TV\",Internet,Wifi,\"Air conditioning...</td>\n",
       "      <td>95.0</td>\n",
       "    </tr>\n",
       "    <tr>\n",
       "      <th>4</th>\n",
       "      <td>1940</td>\n",
       "      <td>{TV,Wifi,\"Air conditioning\",Kitchen,\"Pets live...</td>\n",
       "      <td>99.0</td>\n",
       "    </tr>\n",
       "  </tbody>\n",
       "</table>\n",
       "</div>"
      ],
      "text/plain": [
       "     id                                          amenities  \\\n",
       "0   360  {TV,Wifi,\"Air conditioning\",Kitchen,\"Free stre...   \n",
       "1   590  {Internet,Wifi,\"Air conditioning\",Kitchen,\"Fre...   \n",
       "2   592  {Internet,Wifi,\"Air conditioning\",Kitchen,\"Fre...   \n",
       "3   686  {TV,\"Cable TV\",Internet,Wifi,\"Air conditioning...   \n",
       "4  1940  {TV,Wifi,\"Air conditioning\",Kitchen,\"Pets live...   \n",
       "\n",
       "   review_scores_rating  \n",
       "0                 100.0  \n",
       "1                  96.0  \n",
       "2                  97.0  \n",
       "3                  95.0  \n",
       "4                  99.0  "
      ]
     },
     "execution_count": 265,
     "metadata": {},
     "output_type": "execute_result"
    }
   ],
   "source": [
    "#create subset of df with just amenity info\n",
    "amenities_df = master_df.loc[:,[\"id\",\"amenities\",\"review_scores_rating\"]]\n",
    "amenities_df.head()"
   ]
  },
  {
   "cell_type": "code",
   "execution_count": 266,
   "metadata": {},
   "outputs": [],
   "source": [
    "# amenities_df.iloc[0,1]"
   ]
  },
  {
   "cell_type": "code",
   "execution_count": 267,
   "metadata": {},
   "outputs": [
    {
     "name": "stdout",
     "output_type": "stream",
     "text": [
      "['TV', 'Wifi', 'Air conditioning', 'Kitchen', 'Free street parking', 'Hot tub', 'Heating', 'Smoke detector', 'Carbon monoxide detector', 'First aid kit', 'Fire extinguisher', 'Essentials', 'Shampoo', 'Lock on bedroom door', 'Hangers', 'Hair dryer', 'Iron', 'Laptop friendly workspace', 'Self check-in', 'Keypad', 'Bathtub', 'Hot water', 'Coffee maker', 'Refrigerator', 'Dishes and silverware', 'Cooking basics', 'Oven', 'Stove', 'BBQ grill', 'Patio or balcony', 'Garden or backyard', 'Luggage dropoff allowed', 'Long term stays allowed', 'Well-lit path to entrance']\n"
     ]
    }
   ],
   "source": [
    "#create list of amenities to clean data:\n",
    "amenity_lists = [amenities for amenities in amenities_df[\"amenities\"]]\n",
    "\n",
    "#cleanse amenities into a list of lists:\n",
    "for counter, amenity_list in enumerate(amenity_lists):\n",
    "    amenity_list_clean = amenity_list.replace('{','')\n",
    "    amenity_list_clean = amenity_list_clean.replace('}','')\n",
    "    amenity_list_clean = amenity_list_clean.replace('\"','')\n",
    "    amenity_list_clean = amenity_list_clean.split(',')\n",
    "    amenity_lists[counter] = amenity_list_clean\n",
    "print(amenity_lists[0])"
   ]
  },
  {
   "cell_type": "code",
   "execution_count": 268,
   "metadata": {},
   "outputs": [],
   "source": [
    "#create list of how many amenities each property has\n",
    "count_of_amenities = [len(amenity_list) for amenity_list in amenity_lists]"
   ]
  },
  {
   "cell_type": "code",
   "execution_count": 269,
   "metadata": {},
   "outputs": [
    {
     "data": {
      "text/html": [
       "<div>\n",
       "<style scoped>\n",
       "    .dataframe tbody tr th:only-of-type {\n",
       "        vertical-align: middle;\n",
       "    }\n",
       "\n",
       "    .dataframe tbody tr th {\n",
       "        vertical-align: top;\n",
       "    }\n",
       "\n",
       "    .dataframe thead th {\n",
       "        text-align: right;\n",
       "    }\n",
       "</style>\n",
       "<table border=\"1\" class=\"dataframe\">\n",
       "  <thead>\n",
       "    <tr style=\"text-align: right;\">\n",
       "      <th></th>\n",
       "      <th>id</th>\n",
       "      <th>amenities</th>\n",
       "      <th>review_scores_rating</th>\n",
       "      <th>count of amenities</th>\n",
       "    </tr>\n",
       "  </thead>\n",
       "  <tbody>\n",
       "    <tr>\n",
       "      <th>0</th>\n",
       "      <td>360</td>\n",
       "      <td>[TV, Wifi, Air conditioning, Kitchen, Free str...</td>\n",
       "      <td>100.0</td>\n",
       "      <td>34</td>\n",
       "    </tr>\n",
       "    <tr>\n",
       "      <th>1</th>\n",
       "      <td>590</td>\n",
       "      <td>[Internet, Wifi, Air conditioning, Kitchen, Fr...</td>\n",
       "      <td>96.0</td>\n",
       "      <td>33</td>\n",
       "    </tr>\n",
       "    <tr>\n",
       "      <th>2</th>\n",
       "      <td>592</td>\n",
       "      <td>[Internet, Wifi, Air conditioning, Kitchen, Fr...</td>\n",
       "      <td>97.0</td>\n",
       "      <td>19</td>\n",
       "    </tr>\n",
       "    <tr>\n",
       "      <th>3</th>\n",
       "      <td>686</td>\n",
       "      <td>[TV, Cable TV, Internet, Wifi, Air conditionin...</td>\n",
       "      <td>95.0</td>\n",
       "      <td>27</td>\n",
       "    </tr>\n",
       "    <tr>\n",
       "      <th>4</th>\n",
       "      <td>1940</td>\n",
       "      <td>[TV, Wifi, Air conditioning, Kitchen, Pets liv...</td>\n",
       "      <td>99.0</td>\n",
       "      <td>43</td>\n",
       "    </tr>\n",
       "  </tbody>\n",
       "</table>\n",
       "</div>"
      ],
      "text/plain": [
       "     id                                          amenities  \\\n",
       "0   360  [TV, Wifi, Air conditioning, Kitchen, Free str...   \n",
       "1   590  [Internet, Wifi, Air conditioning, Kitchen, Fr...   \n",
       "2   592  [Internet, Wifi, Air conditioning, Kitchen, Fr...   \n",
       "3   686  [TV, Cable TV, Internet, Wifi, Air conditionin...   \n",
       "4  1940  [TV, Wifi, Air conditioning, Kitchen, Pets liv...   \n",
       "\n",
       "   review_scores_rating  count of amenities  \n",
       "0                 100.0                  34  \n",
       "1                  96.0                  33  \n",
       "2                  97.0                  19  \n",
       "3                  95.0                  27  \n",
       "4                  99.0                  43  "
      ]
     },
     "execution_count": 269,
     "metadata": {},
     "output_type": "execute_result"
    }
   ],
   "source": [
    "#replace amenities data in df with cleansed version, add count of amenities\n",
    "amenities_df[\"amenities\"] = amenity_lists\n",
    "amenities_df[\"count of amenities\"] = count_of_amenities\n",
    "amenities_df.head()"
   ]
  },
  {
   "cell_type": "code",
   "execution_count": 270,
   "metadata": {},
   "outputs": [
    {
     "data": {
      "text/html": [
       "<div>\n",
       "<style scoped>\n",
       "    .dataframe tbody tr th:only-of-type {\n",
       "        vertical-align: middle;\n",
       "    }\n",
       "\n",
       "    .dataframe tbody tr th {\n",
       "        vertical-align: top;\n",
       "    }\n",
       "\n",
       "    .dataframe thead th {\n",
       "        text-align: right;\n",
       "    }\n",
       "</style>\n",
       "<table border=\"1\" class=\"dataframe\">\n",
       "  <thead>\n",
       "    <tr style=\"text-align: right;\">\n",
       "      <th></th>\n",
       "      <th>count of amenities</th>\n",
       "      <th>Number of Properties</th>\n",
       "      <th>Average Review Score</th>\n",
       "    </tr>\n",
       "  </thead>\n",
       "  <tbody>\n",
       "    <tr>\n",
       "      <th>0</th>\n",
       "      <td>1</td>\n",
       "      <td>1</td>\n",
       "      <td>100.0</td>\n",
       "    </tr>\n",
       "    <tr>\n",
       "      <th>1</th>\n",
       "      <td>2</td>\n",
       "      <td>1</td>\n",
       "      <td>100.0</td>\n",
       "    </tr>\n",
       "    <tr>\n",
       "      <th>2</th>\n",
       "      <td>3</td>\n",
       "      <td>3</td>\n",
       "      <td>90.0</td>\n",
       "    </tr>\n",
       "    <tr>\n",
       "      <th>3</th>\n",
       "      <td>4</td>\n",
       "      <td>1</td>\n",
       "      <td>96.0</td>\n",
       "    </tr>\n",
       "    <tr>\n",
       "      <th>4</th>\n",
       "      <td>5</td>\n",
       "      <td>4</td>\n",
       "      <td>95.0</td>\n",
       "    </tr>\n",
       "  </tbody>\n",
       "</table>\n",
       "</div>"
      ],
      "text/plain": [
       "   count of amenities  Number of Properties  Average Review Score\n",
       "0                   1                     1                 100.0\n",
       "1                   2                     1                 100.0\n",
       "2                   3                     3                  90.0\n",
       "3                   4                     1                  96.0\n",
       "4                   5                     4                  95.0"
      ]
     },
     "execution_count": 270,
     "metadata": {},
     "output_type": "execute_result"
    }
   ],
   "source": [
    "#create new df with average rating by number of amenities\n",
    "amenity_count_groups = amenities_df.groupby([\"count of amenities\"])\n",
    "properties_with_amenity_count = amenity_count_groups[\"id\"].count()\n",
    "average_score_by_amenity_count = amenity_count_groups[\"review_scores_rating\"].mean()\n",
    "count_rating_summary = pd.DataFrame({\"Number of Properties\":properties_with_amenity_count,\n",
    "                                     \"Average Review Score\":average_score_by_amenity_count})\n",
    "count_rating_summary.reset_index(inplace=True)\n",
    "count_rating_summary.head()"
   ]
  },
  {
   "cell_type": "code",
   "execution_count": 271,
   "metadata": {},
   "outputs": [
    {
     "data": {
      "text/plain": [
       "Text(0,0.5,'Average Rating')"
      ]
     },
     "execution_count": 271,
     "metadata": {},
     "output_type": "execute_result"
    },
    {
     "data": {
      "image/png": "[encoded data removed]",
      "text/plain": [
       "<Figure size 432x288 with 1 Axes>"
      ]
     },
     "metadata": {},
     "output_type": "display_data"
    }
   ],
   "source": [
    "#create scatter plot of average rating by number of amenities\n",
    "#bubble size weighted by number of properties\n",
    "plt.scatter(count_rating_summary[\"count of amenities\"],count_rating_summary[\"Average Review Score\"],marker=\"o\",facecolors=\"red\",edgecolors=\"black\",alpha=.75,s=count_rating_summary[\"Number of Properties\"])\n",
    "\n",
    "plt.title(\"Average Rating by Number of Amenities Offered\")\n",
    "plt.xlabel(\"Number of Amenities Offered\")\n",
    "plt.ylabel(\"Average Rating\")"
   ]
  },
  {
   "cell_type": "code",
   "execution_count": 272,
   "metadata": {},
   "outputs": [
    {
     "name": "stdout",
     "output_type": "stream",
     "text": [
      "0.2883040226367375\n"
     ]
    },
    {
     "data": {
      "text/plain": [
       "[<matplotlib.lines.Line2D at 0x1a1ead29b0>]"
      ]
     },
     "execution_count": 272,
     "metadata": {},
     "output_type": "execute_result"
    },
    {
     "data": {
      "image/png": "[encoded data removed]",
      "text/plain": [
       "<Figure size 432x288 with 1 Axes>"
      ]
     },
     "metadata": {},
     "output_type": "display_data"
    }
   ],
   "source": [
    "#saw a faint correlation, so running a linear regression and adding a line of best fit\n",
    "(slope, intercept, r_value, p_value, std_error) = linregress(count_rating_summary[\"count of amenities\"], count_rating_summary[\"Average Review Score\"])\n",
    "fit = slope * count_rating_summary[\"count of amenities\"] + intercept\n",
    "\n",
    "#r-squared value\n",
    "r_squared = r_value ** 2\n",
    "print(r_squared)\n",
    "\n",
    "fig, ax = plt.subplots()\n",
    "\n",
    "plt.title(\"Average Rating by Number of Amenities Offered\")\n",
    "plt.xlabel(\"Number of Amenities Offered\")\n",
    "plt.ylabel(\"Average Rating\")\n",
    "\n",
    "ax.scatter(count_rating_summary[\"count of amenities\"],count_rating_summary[\"Average Review Score\"],marker=\"o\",facecolors=\"red\",edgecolors=\"black\",alpha=.75,s=count_rating_summary[\"Number of Properties\"])\n",
    "ax.plot(count_rating_summary[\"count of amenities\"], fit, 'r--')"
   ]
  },
  {
   "cell_type": "code",
   "execution_count": 273,
   "metadata": {},
   "outputs": [],
   "source": [
    "#create property ratings list\n",
    "ratings = [rating for rating in amenities_df[\"review_scores_rating\"]]"
   ]
  },
  {
   "cell_type": "code",
   "execution_count": 274,
   "metadata": {},
   "outputs": [],
   "source": [
    "#create lists of unique amenities, how many properties had that amenity, and the sum of ratings for properties with that rating\n",
    "unique_amenities = []\n",
    "unique_amenity_count = []\n",
    "total_amenity_rating = []\n",
    "\n",
    "for counter,amenity_list in enumerate(amenities):\n",
    "    for amenity in amenity_list:\n",
    "        if amenity not in unique_amenities:\n",
    "            unique_amenities.append(amenity)\n",
    "            unique_amenity_count.append(1)\n",
    "            total_amenity_rating.append(ratings[counter])\n",
    "        else:\n",
    "            unique_amenity_index = unique_amenities.index(amenity)\n",
    "            unique_amenity_count[unique_amenity_index] += 1\n",
    "            total_amenity_rating[unique_amenity_index] += ratings[counter]"
   ]
  },
  {
   "cell_type": "code",
   "execution_count": 275,
   "metadata": {},
   "outputs": [
    {
     "data": {
      "text/html": [
       "<div>\n",
       "<style scoped>\n",
       "    .dataframe tbody tr th:only-of-type {\n",
       "        vertical-align: middle;\n",
       "    }\n",
       "\n",
       "    .dataframe tbody tr th {\n",
       "        vertical-align: top;\n",
       "    }\n",
       "\n",
       "    .dataframe thead th {\n",
       "        text-align: right;\n",
       "    }\n",
       "</style>\n",
       "<table border=\"1\" class=\"dataframe\">\n",
       "  <thead>\n",
       "    <tr style=\"text-align: right;\">\n",
       "      <th></th>\n",
       "      <th>Amenity</th>\n",
       "      <th>Properties With Amenity</th>\n",
       "      <th>Sum of Rating</th>\n",
       "    </tr>\n",
       "  </thead>\n",
       "  <tbody>\n",
       "    <tr>\n",
       "      <th>0</th>\n",
       "      <td>TV</td>\n",
       "      <td>3571</td>\n",
       "      <td>345733.0</td>\n",
       "    </tr>\n",
       "    <tr>\n",
       "      <th>1</th>\n",
       "      <td>Wifi</td>\n",
       "      <td>4018</td>\n",
       "      <td>388821.0</td>\n",
       "    </tr>\n",
       "    <tr>\n",
       "      <th>2</th>\n",
       "      <td>Air conditioning</td>\n",
       "      <td>3324</td>\n",
       "      <td>322146.0</td>\n",
       "    </tr>\n",
       "    <tr>\n",
       "      <th>3</th>\n",
       "      <td>Kitchen</td>\n",
       "      <td>3756</td>\n",
       "      <td>363157.0</td>\n",
       "    </tr>\n",
       "    <tr>\n",
       "      <th>4</th>\n",
       "      <td>Free street parking</td>\n",
       "      <td>2317</td>\n",
       "      <td>225056.0</td>\n",
       "    </tr>\n",
       "  </tbody>\n",
       "</table>\n",
       "</div>"
      ],
      "text/plain": [
       "               Amenity  Properties With Amenity  Sum of Rating\n",
       "0                   TV                     3571       345733.0\n",
       "1                 Wifi                     4018       388821.0\n",
       "2     Air conditioning                     3324       322146.0\n",
       "3              Kitchen                     3756       363157.0\n",
       "4  Free street parking                     2317       225056.0"
      ]
     },
     "execution_count": 275,
     "metadata": {},
     "output_type": "execute_result"
    }
   ],
   "source": [
    "#create dataframe for unique amenities\n",
    "specific_amenity_summary = pd.DataFrame({\"Amenity\":unique_amenities,\n",
    "                                         \"Properties With Amenity\":unique_amenity_count,\n",
    "                                         \"Sum of Rating\":total_amenity_rating})\n",
    "specific_amenity_summary.head()"
   ]
  },
  {
   "cell_type": "code",
   "execution_count": 276,
   "metadata": {},
   "outputs": [
    {
     "data": {
      "text/html": [
       "<div>\n",
       "<style scoped>\n",
       "    .dataframe tbody tr th:only-of-type {\n",
       "        vertical-align: middle;\n",
       "    }\n",
       "\n",
       "    .dataframe tbody tr th {\n",
       "        vertical-align: top;\n",
       "    }\n",
       "\n",
       "    .dataframe thead th {\n",
       "        text-align: right;\n",
       "    }\n",
       "</style>\n",
       "<table border=\"1\" class=\"dataframe\">\n",
       "  <thead>\n",
       "    <tr style=\"text-align: right;\">\n",
       "      <th></th>\n",
       "      <th>Amenity</th>\n",
       "      <th>Properties With Amenity</th>\n",
       "      <th>Sum of Rating</th>\n",
       "      <th>Average Rating</th>\n",
       "    </tr>\n",
       "  </thead>\n",
       "  <tbody>\n",
       "    <tr>\n",
       "      <th>0</th>\n",
       "      <td>TV</td>\n",
       "      <td>3571</td>\n",
       "      <td>345733.0</td>\n",
       "      <td>96.816858</td>\n",
       "    </tr>\n",
       "    <tr>\n",
       "      <th>1</th>\n",
       "      <td>Wifi</td>\n",
       "      <td>4018</td>\n",
       "      <td>388821.0</td>\n",
       "      <td>96.769786</td>\n",
       "    </tr>\n",
       "    <tr>\n",
       "      <th>2</th>\n",
       "      <td>Air conditioning</td>\n",
       "      <td>3324</td>\n",
       "      <td>322146.0</td>\n",
       "      <td>96.915162</td>\n",
       "    </tr>\n",
       "    <tr>\n",
       "      <th>3</th>\n",
       "      <td>Kitchen</td>\n",
       "      <td>3756</td>\n",
       "      <td>363157.0</td>\n",
       "      <td>96.687167</td>\n",
       "    </tr>\n",
       "    <tr>\n",
       "      <th>4</th>\n",
       "      <td>Free street parking</td>\n",
       "      <td>2317</td>\n",
       "      <td>225056.0</td>\n",
       "      <td>97.132499</td>\n",
       "    </tr>\n",
       "  </tbody>\n",
       "</table>\n",
       "</div>"
      ],
      "text/plain": [
       "               Amenity  Properties With Amenity  Sum of Rating  Average Rating\n",
       "0                   TV                     3571       345733.0       96.816858\n",
       "1                 Wifi                     4018       388821.0       96.769786\n",
       "2     Air conditioning                     3324       322146.0       96.915162\n",
       "3              Kitchen                     3756       363157.0       96.687167\n",
       "4  Free street parking                     2317       225056.0       97.132499"
      ]
     },
     "execution_count": 276,
     "metadata": {},
     "output_type": "execute_result"
    }
   ],
   "source": [
    "#add average rating to unique amenity summary\n",
    "specific_amenity_summary[\"Average Rating\"] = specific_amenity_summary[\"Sum of Rating\"]/specific_amenity_summary[\"Properties With Amenity\"]\n",
    "specific_amenity_summary.head()"
   ]
  },
  {
   "cell_type": "code",
   "execution_count": 277,
   "metadata": {},
   "outputs": [
    {
     "data": {
      "text/html": [
       "<div>\n",
       "<style scoped>\n",
       "    .dataframe tbody tr th:only-of-type {\n",
       "        vertical-align: middle;\n",
       "    }\n",
       "\n",
       "    .dataframe tbody tr th {\n",
       "        vertical-align: top;\n",
       "    }\n",
       "\n",
       "    .dataframe thead th {\n",
       "        text-align: right;\n",
       "    }\n",
       "</style>\n",
       "<table border=\"1\" class=\"dataframe\">\n",
       "  <thead>\n",
       "    <tr style=\"text-align: right;\">\n",
       "      <th></th>\n",
       "      <th>Properties With Amenity</th>\n",
       "      <th>Sum of Rating</th>\n",
       "      <th>Average Rating</th>\n",
       "    </tr>\n",
       "  </thead>\n",
       "  <tbody>\n",
       "    <tr>\n",
       "      <th>count</th>\n",
       "      <td>122.000000</td>\n",
       "      <td>122.000000</td>\n",
       "      <td>122.000000</td>\n",
       "    </tr>\n",
       "    <tr>\n",
       "      <th>mean</th>\n",
       "      <td>992.745902</td>\n",
       "      <td>96174.704918</td>\n",
       "      <td>96.977993</td>\n",
       "    </tr>\n",
       "    <tr>\n",
       "      <th>std</th>\n",
       "      <td>1225.826842</td>\n",
       "      <td>118712.513842</td>\n",
       "      <td>0.886680</td>\n",
       "    </tr>\n",
       "    <tr>\n",
       "      <th>min</th>\n",
       "      <td>1.000000</td>\n",
       "      <td>99.000000</td>\n",
       "      <td>93.523810</td>\n",
       "    </tr>\n",
       "    <tr>\n",
       "      <th>25%</th>\n",
       "      <td>75.250000</td>\n",
       "      <td>7226.500000</td>\n",
       "      <td>96.716979</td>\n",
       "    </tr>\n",
       "    <tr>\n",
       "      <th>50%</th>\n",
       "      <td>380.000000</td>\n",
       "      <td>36591.500000</td>\n",
       "      <td>97.025692</td>\n",
       "    </tr>\n",
       "    <tr>\n",
       "      <th>75%</th>\n",
       "      <td>1624.500000</td>\n",
       "      <td>157792.250000</td>\n",
       "      <td>97.349076</td>\n",
       "    </tr>\n",
       "    <tr>\n",
       "      <th>max</th>\n",
       "      <td>4022.000000</td>\n",
       "      <td>389108.000000</td>\n",
       "      <td>99.333333</td>\n",
       "    </tr>\n",
       "  </tbody>\n",
       "</table>\n",
       "</div>"
      ],
      "text/plain": [
       "       Properties With Amenity  Sum of Rating  Average Rating\n",
       "count               122.000000     122.000000      122.000000\n",
       "mean                992.745902   96174.704918       96.977993\n",
       "std                1225.826842  118712.513842        0.886680\n",
       "min                   1.000000      99.000000       93.523810\n",
       "25%                  75.250000    7226.500000       96.716979\n",
       "50%                 380.000000   36591.500000       97.025692\n",
       "75%                1624.500000  157792.250000       97.349076\n",
       "max                4022.000000  389108.000000       99.333333"
      ]
     },
     "execution_count": 277,
     "metadata": {},
     "output_type": "execute_result"
    }
   ],
   "source": [
    "data_summary = specific_amenity_summary.describe()\n",
    "data_summary"
   ]
  },
  {
   "cell_type": "code",
   "execution_count": 278,
   "metadata": {},
   "outputs": [
    {
     "data": {
      "text/html": [
       "<div>\n",
       "<style scoped>\n",
       "    .dataframe tbody tr th:only-of-type {\n",
       "        vertical-align: middle;\n",
       "    }\n",
       "\n",
       "    .dataframe tbody tr th {\n",
       "        vertical-align: top;\n",
       "    }\n",
       "\n",
       "    .dataframe thead th {\n",
       "        text-align: right;\n",
       "    }\n",
       "</style>\n",
       "<table border=\"1\" class=\"dataframe\">\n",
       "  <thead>\n",
       "    <tr style=\"text-align: right;\">\n",
       "      <th></th>\n",
       "      <th>Amenity</th>\n",
       "      <th>Properties With Amenity</th>\n",
       "      <th>Sum of Rating</th>\n",
       "      <th>Average Rating</th>\n",
       "    </tr>\n",
       "  </thead>\n",
       "  <tbody>\n",
       "    <tr>\n",
       "      <th>115</th>\n",
       "      <td>Full kitchen</td>\n",
       "      <td>6</td>\n",
       "      <td>596.0</td>\n",
       "      <td>99.333333</td>\n",
       "    </tr>\n",
       "    <tr>\n",
       "      <th>121</th>\n",
       "      <td>Electric profiling bed</td>\n",
       "      <td>1</td>\n",
       "      <td>99.0</td>\n",
       "      <td>99.000000</td>\n",
       "    </tr>\n",
       "    <tr>\n",
       "      <th>112</th>\n",
       "      <td>Kitchenette</td>\n",
       "      <td>1</td>\n",
       "      <td>99.0</td>\n",
       "      <td>99.000000</td>\n",
       "    </tr>\n",
       "    <tr>\n",
       "      <th>110</th>\n",
       "      <td>Beach essentials</td>\n",
       "      <td>9</td>\n",
       "      <td>890.0</td>\n",
       "      <td>98.888889</td>\n",
       "    </tr>\n",
       "    <tr>\n",
       "      <th>109</th>\n",
       "      <td>Ground floor access</td>\n",
       "      <td>3</td>\n",
       "      <td>296.0</td>\n",
       "      <td>98.666667</td>\n",
       "    </tr>\n",
       "    <tr>\n",
       "      <th>94</th>\n",
       "      <td>Doorman</td>\n",
       "      <td>42</td>\n",
       "      <td>3928.0</td>\n",
       "      <td>93.523810</td>\n",
       "    </tr>\n",
       "    <tr>\n",
       "      <th>120</th>\n",
       "      <td>Roll-in shower</td>\n",
       "      <td>5</td>\n",
       "      <td>472.0</td>\n",
       "      <td>94.400000</td>\n",
       "    </tr>\n",
       "    <tr>\n",
       "      <th>83</th>\n",
       "      <td>Cleaning before checkout</td>\n",
       "      <td>141</td>\n",
       "      <td>13390.0</td>\n",
       "      <td>94.964539</td>\n",
       "    </tr>\n",
       "    <tr>\n",
       "      <th>103</th>\n",
       "      <td>toilet</td>\n",
       "      <td>40</td>\n",
       "      <td>3799.0</td>\n",
       "      <td>94.975000</td>\n",
       "    </tr>\n",
       "    <tr>\n",
       "      <th>102</th>\n",
       "      <td>Wide clearance to shower</td>\n",
       "      <td>40</td>\n",
       "      <td>3799.0</td>\n",
       "      <td>94.975000</td>\n",
       "    </tr>\n",
       "  </tbody>\n",
       "</table>\n",
       "</div>"
      ],
      "text/plain": [
       "                      Amenity  Properties With Amenity  Sum of Rating  \\\n",
       "115              Full kitchen                        6          596.0   \n",
       "121    Electric profiling bed                        1           99.0   \n",
       "112               Kitchenette                        1           99.0   \n",
       "110          Beach essentials                        9          890.0   \n",
       "109       Ground floor access                        3          296.0   \n",
       "94                    Doorman                       42         3928.0   \n",
       "120            Roll-in shower                        5          472.0   \n",
       "83   Cleaning before checkout                      141        13390.0   \n",
       "103                    toilet                       40         3799.0   \n",
       "102  Wide clearance to shower                       40         3799.0   \n",
       "\n",
       "     Average Rating  \n",
       "115       99.333333  \n",
       "121       99.000000  \n",
       "112       99.000000  \n",
       "110       98.888889  \n",
       "109       98.666667  \n",
       "94        93.523810  \n",
       "120       94.400000  \n",
       "83        94.964539  \n",
       "103       94.975000  \n",
       "102       94.975000  "
      ]
     },
     "execution_count": 278,
     "metadata": {},
     "output_type": "execute_result"
    }
   ],
   "source": [
    "#create subset of dataframe with just top and bottom 5 amenities\n",
    "specific_amenity_summary.sort_values([\"Average Rating\"],ascending=False,inplace=True)\n",
    "top_5 = specific_amenity_summary.iloc[0:5,:]\n",
    "\n",
    "specific_amenity_summary.sort_values([\"Average Rating\"],ascending=True,inplace=True)\n",
    "bottom_5 = specific_amenity_summary.iloc[0:5,:]\n",
    "\n",
    "top_5_bottom_5 = top_5.append(bottom_5)\n",
    "top_5_bottom_5"
   ]
  },
  {
   "cell_type": "code",
   "execution_count": 279,
   "metadata": {},
   "outputs": [
    {
     "data": {
      "image/png": "[encoded data removed]",
      "text/plain": [
       "<Figure size 1440x216 with 1 Axes>"
      ]
     },
     "metadata": {},
     "output_type": "display_data"
    }
   ],
   "source": [
    "#barchart of top and bottom 5 amenities with line showing average rating\n",
    "x_axis = np.arange(top_5_bottom_5[\"Amenity\"].count())\n",
    "\n",
    "plt.figure(figsize=(20,3))\n",
    "\n",
    "plt.bar(x_axis,top_5_bottom_5[\"Average Rating\"])\n",
    "plt.xticks(x_axis,top_5_bottom_5[\"Amenity\"],rotation=90)\n",
    "\n",
    "average = top_5_bottom_5[\"Average Rating\"].mean()\n",
    "plt.hlines(average,-.75,122.25,color=\"r\")\n",
    "\n",
    "plt.xlim(-.75,len(x_axis)-.25)\n",
    "plt.ylim(90,100)\n",
    "\n",
    "plt.title(\"Top and Bottom Amenities by Average Rating\")\n",
    "plt.xlabel(\"Amenity\")\n",
    "plt.ylabel(\"Average Rating\")\n",
    "\n",
    "plt.show()"
   ]
  },
  {
   "cell_type": "code",
   "execution_count": null,
   "metadata": {},
   "outputs": [],
   "source": []
  }
 ],
 "metadata": {
  "kernelspec": {
   "display_name": "Python [default]",
   "language": "python",
   "name": "python3"
  },
  "language_info": {
   "codemirror_mode": {
    "name": "ipython",
    "version": 3
   },
   "file_extension": ".py",
   "mimetype": "text/x-python",
   "name": "python",
   "nbconvert_exporter": "python",
   "pygments_lexer": "ipython3",
   "version": "3.6.5"
  }
 },
 "nbformat": 4,
 "nbformat_minor": 2
}
